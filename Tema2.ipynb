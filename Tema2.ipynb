{
 "cells": [
  {
   "cell_type": "code",
   "execution_count": 1,
   "metadata": {},
   "outputs": [],
   "source": [
    "#1.Import numpy as np\n",
    "import numpy as np"
   ]
  },
  {
   "cell_type": "code",
   "execution_count": 9,
   "metadata": {},
   "outputs": [
    {
     "data": {
      "text/plain": [
       "array([0, 0, 0, 0, 0, 0, 0, 0, 0, 0])"
      ]
     },
     "execution_count": 9,
     "metadata": {},
     "output_type": "execute_result"
    }
   ],
   "source": [
    "#2.Create 10 zeroes\n",
    "np.zeros(10,dtype=int)"
   ]
  },
  {
   "cell_type": "code",
   "execution_count": 14,
   "metadata": {},
   "outputs": [
    {
     "name": "stdout",
     "output_type": "stream",
     "text": [
      "[10 11 12 13 14 15 16 17 18 19 20 21 22 23 24 25 26 27 28 29 30 31 32 33\n",
      " 34 35 36 37 38 39 40 41 42 43 44 45 46 47 48 49 50 51 52 53 54 55 56 57\n",
      " 58 59 60 61 62 63 64 65 66 67 68 69 70 71 72 73 74 75 76 77 78 79 80 81\n",
      " 82 83 84 85 86 87 88 89 90 91 92 93 94 95 96 97 98 99]\n"
     ]
    }
   ],
   "source": [
    "#3.Create a vector with values ranging from 10 to 100\n",
    "x=np.arange(10,100,1)\n",
    "print(x)"
   ]
  },
  {
   "cell_type": "code",
   "execution_count": 19,
   "metadata": {},
   "outputs": [
    {
     "data": {
      "text/plain": [
       "array([99, 98, 97, 96, 95, 94, 93, 92, 91, 90, 89, 88, 87, 86, 85, 84, 83,\n",
       "       82, 81, 80, 79, 78, 77, 76, 75, 74, 73, 72, 71, 70, 69, 68, 67, 66,\n",
       "       65, 64, 63, 62, 61, 60, 59, 58, 57, 56, 55, 54, 53, 52, 51, 50, 49,\n",
       "       48, 47, 46, 45, 44, 43, 42, 41, 40, 39, 38, 37, 36, 35, 34, 33, 32,\n",
       "       31, 30, 29, 28, 27, 26, 25, 24, 23, 22, 21, 20, 19, 18, 17, 16, 15,\n",
       "       14, 13, 12, 11, 10])"
      ]
     },
     "execution_count": 19,
     "metadata": {},
     "output_type": "execute_result"
    }
   ],
   "source": [
    "#4.Reverse it\n",
    "x[: :-1]"
   ]
  },
  {
   "cell_type": "code",
   "execution_count": 22,
   "metadata": {},
   "outputs": [
    {
     "name": "stdout",
     "output_type": "stream",
     "text": [
      "[[10 11 12 13 14 15 16 17 18 19 20 21 22 23 24 25 26 27 28 29 30 31 32 33\n",
      "  34 35 36 37 38 39]\n",
      " [40 41 42 43 44 45 46 47 48 49 50 51 52 53 54 55 56 57 58 59 60 61 62 63\n",
      "  64 65 66 67 68 69]\n",
      " [70 71 72 73 74 75 76 77 78 79 80 81 82 83 84 85 86 87 88 89 90 91 92 93\n",
      "  94 95 96 97 98 99]]\n"
     ]
    }
   ],
   "source": [
    "#5.Reshape it to a 3x30\n",
    "x_reshaped = x.reshape(3,30)\n",
    "print(x_reshaped)"
   ]
  },
  {
   "cell_type": "code",
   "execution_count": 26,
   "metadata": {},
   "outputs": [
    {
     "name": "stdout",
     "output_type": "stream",
     "text": [
      "[1 2 9 0 0 1 4 0]\n",
      "(array([0, 1, 2, 5, 6], dtype=int64),)\n"
     ]
    }
   ],
   "source": [
    "#6.Create the vector with elems 1,2,9,0,0,1,4,0. Find indices of non-zero elems.\n",
    "vector = np.array([1,2,9,0,0,1,4,0])\n",
    "print(vector)\n",
    "indices=np.nonzero(vector)\n",
    "print(indices)"
   ]
  },
  {
   "cell_type": "code",
   "execution_count": 32,
   "metadata": {},
   "outputs": [
    {
     "name": "stdout",
     "output_type": "stream",
     "text": [
      "[[1 0 0]\n",
      " [0 1 0]\n",
      " [0 0 1]]\n"
     ]
    }
   ],
   "source": [
    "#7.Create a 3x3 identity matrix\n",
    "matrix = np.identity(3,dtype=int)\n",
    "print(matrix)"
   ]
  },
  {
   "cell_type": "code",
   "execution_count": 42,
   "metadata": {},
   "outputs": [
    {
     "name": "stdout",
     "output_type": "stream",
     "text": [
      "[ 0.17398894 -0.49602272 -0.76498569  0.66393535 -0.00469018  0.65859123\n",
      "  0.27766585 -0.15291869  0.24330954 -0.51865701 -0.26528918  0.47213796\n",
      " -0.39227787  0.52352174 -0.14454537 -0.38061922 -0.10695244 -0.52902127\n",
      "  0.0564615  -0.85604278  0.9187468  -0.18006173  0.0163832   0.72505998\n",
      " -0.08157651 -0.90842181 -0.25433303 -0.26032447 -0.26032238  0.81635282\n",
      " -0.29576963 -0.22993409 -0.58274897  0.49354121  0.36214573  0.50297834\n",
      "  0.58479017  0.9202034  -0.86878275  0.98332474  0.77015072 -0.98178574\n",
      " -0.57942137 -0.66459003  0.9621988  -0.92753351  0.57981996  0.59938697\n",
      "  0.61379451  0.80090264]\n",
      "media= 0.040635273348123516\n"
     ]
    }
   ],
   "source": [
    "#8.Create a random vector of size 50 with values uniformely distributed in (-1, 1). Find the average of these values.\n",
    "Y=np.random.uniform(-1,1,50)\n",
    "print(Y)\n",
    "media=Y.mean()\n",
    "print('media=',media)"
   ]
  },
  {
   "cell_type": "code",
   "execution_count": 52,
   "metadata": {},
   "outputs": [
    {
     "name": "stdout",
     "output_type": "stream",
     "text": [
      "[[0 0 0 0 0]\n",
      " [1 0 0 0 0]\n",
      " [0 2 0 0 0]\n",
      " [0 0 3 0 0]\n",
      " [0 0 0 4 0]]\n"
     ]
    }
   ],
   "source": [
    "#9.Create a 5x5 matrix with 1,2,3,4 just below the 1st diag and 0 in rest.\n",
    "matrix=np.diag([1,2,3,4],-1)\n",
    "print(matrix)"
   ]
  },
  {
   "cell_type": "code",
   "execution_count": 75,
   "metadata": {},
   "outputs": [
    {
     "name": "stdout",
     "output_type": "stream",
     "text": [
      "A=\n",
      "[[0.71347541 0.46749208 0.41602259]\n",
      " [0.9501008  0.99944796 0.19406571]\n",
      " [0.28050415 0.22807647 0.10075154]\n",
      " [0.16386709 0.66512373 0.37360083]\n",
      " [0.1509441  0.03949596 0.63366112]]\n",
      "B=\n",
      "[[0.73526332 0.30382954 0.38446442 0.10401428]\n",
      " [0.67786632 0.33769261 0.46557873 0.72510003]\n",
      " [0.85667493 0.35202987 0.03611459 0.66204554]]\n",
      "A*B=\n",
      "[[1.19788555 0.52109591 0.50698476 0.68861605]\n",
      " [1.54231761 0.69449181 0.83761027 0.95200414]\n",
      " [0.44716108 0.19771274 0.21767002 0.2612568 ]\n",
      " [0.8914049  0.40591368 0.38616097 0.74666652]\n",
      " [0.68059823 0.28226641 0.09930552 0.46385138]]\n"
     ]
    }
   ],
   "source": [
    "#10.Create a 5x3 matrix and a 3x4 one. Multiply them.\n",
    "A=np.random.random((5,3))\n",
    "print('A=')\n",
    "print(A)\n",
    "B=np.random.random((3,4))\n",
    "print('B=')\n",
    "print(B)\n",
    "matrix_prod=np.dot(A,B)\n",
    "print('A*B=')\n",
    "print(matrix_prod)\n"
   ]
  },
  {
   "cell_type": "code",
   "execution_count": 85,
   "metadata": {},
   "outputs": [
    {
     "name": "stdout",
     "output_type": "stream",
     "text": [
      "[[1. 0. 0. 0.]\n",
      " [1. 0. 0. 0.]\n",
      " [0. 0. 0. 0.]\n",
      " [0. 0. 0. 0.]\n",
      " [0. 0. 0. 0.]]\n",
      "[[1. 0. 0. 0.]\n",
      " [1. 0. 0. 0.]\n",
      " [0. 0. 0. 0.]\n",
      " [0. 0. 0. 0.]\n",
      " [0. 0. 0. 0.]]\n",
      "[[1 0 0 0]\n",
      " [1 0 0 0]\n",
      " [0 0 0 0]\n",
      " [0 0 0 0]\n",
      " [0 0 0 0]]\n"
     ]
    }
   ],
   "source": [
    "#11.Using the previous matrix, extract a new one with just the integer part of the values. Find at least 4 methods of doing this.\n",
    "m1=np.trunc(matrix_prod)\n",
    "print(m1)\n",
    "m2=np.floor(matrix_prod)\n",
    "print(m2)\n",
    "m3=matrix_prod.astype(int)\n",
    "print(m3)"
   ]
  },
  {
   "cell_type": "code",
   "execution_count": 74,
   "metadata": {},
   "outputs": [
    {
     "name": "stdout",
     "output_type": "stream",
     "text": [
      "[0.59734095 0.98305961 0.28186481 0.76783731 0.12397438 0.20236181\n",
      " 0.93921303 0.22165788 0.30366035 0.92438104 0.70071765 0.38014757\n",
      " 0.93336211 0.20916056 0.49652185 0.55515363 0.93547621 0.39209719\n",
      " 0.39123445 0.48023843 0.49639232 0.70660346 0.82736483 0.7877812\n",
      " 0.5405157 ]\n",
      "Sorted:\n",
      "[0.12397438 0.20236181 0.20916056 0.22165788 0.28186481 0.30366035\n",
      " 0.38014757 0.39123445 0.39209719 0.48023843 0.49639232 0.49652185\n",
      " 0.5405157  0.55515363 0.59734095 0.70071765 0.70660346 0.76783731\n",
      " 0.7877812  0.82736483 0.92438104 0.93336211 0.93547621 0.93921303\n",
      " 0.98305961]\n"
     ]
    }
   ],
   "source": [
    "#12.Create a random vector of size 25. Sort it.\n",
    "v=np.random.random(25)\n",
    "print(v)\n",
    "v.sort()\n",
    "print(\"Sorted:\")\n",
    "print(v)"
   ]
  },
  {
   "cell_type": "code",
   "execution_count": 78,
   "metadata": {
    "scrolled": true
   },
   "outputs": [
    {
     "name": "stdout",
     "output_type": "stream",
     "text": [
      "[[0.94691084 0.89680094]\n",
      " [0.47277621 0.54788427]\n",
      " [0.92085762 0.9707897 ]\n",
      " [0.83490864 0.17463273]\n",
      " [0.64591388 0.292086  ]\n",
      " [0.70878727 0.76225899]\n",
      " [0.29155154 0.1818055 ]]\n",
      "[1.30418253 0.72366741 1.33806255 0.85297657 0.70888572 1.04087375\n",
      " 0.34359212]\n",
      "[0.75822603 0.85885346 0.81178812 0.20619126 0.42468675 0.82173161\n",
      " 0.55757703]\n"
     ]
    }
   ],
   "source": [
    "#13.Create a random 7x2 matrix representing 7 2D points. Convert them to polar coordinates.\n",
    "matrix_2D=np.random.random((7,2))\n",
    "print(matrix_2D)\n",
    "x = matrix_2D[:,0]\n",
    "y = matrix_2D[:,1]\n",
    "r = np.sqrt(x**2+y**2)\n",
    "t = np.arctan2(y,x)\n",
    "print(r)\n",
    "print(t)"
   ]
  },
  {
   "cell_type": "code",
   "execution_count": 82,
   "metadata": {},
   "outputs": [
    {
     "name": "stdout",
     "output_type": "stream",
     "text": [
      "[[0.0321118  0.88456578 0.61446084 0.69430836 0.6022027  0.28075103\n",
      "  0.55017442 0.44724659 0.62179264 0.96981033]\n",
      " [0.12094679 0.71769007 0.50937332 0.99052287 0.86960278 0.14503027\n",
      "  0.33884847 0.8552115  0.43176883 0.5534886 ]\n",
      " [0.82219734 0.10205517 0.84119357 0.45319697 0.61210551 0.79673555\n",
      "  0.73382719 0.14952069 0.46885104 0.69339431]\n",
      " [0.09157629 0.45289531 0.26206458 0.6415336  0.56885619 0.07036601\n",
      "  0.68522514 0.5394694  0.95141536 0.77077   ]\n",
      " [0.41718093 0.85623208 0.87463084 0.07118725 0.90641992 0.25515276\n",
      "  0.75838831 0.2767515  0.67689352 0.38356038]\n",
      " [0.94735834 0.67341893 0.94478983 0.34771419 0.9120738  0.38755113\n",
      "  0.30911502 0.27508099 0.16771375 0.78144505]\n",
      " [0.07520352 0.70173439 0.52256605 0.21558341 0.91646995 0.60410962\n",
      "  0.59427208 0.1557743  0.23126896 0.82576926]\n",
      " [0.4122797  0.41251957 0.70041088 0.54744819 0.56091116 0.42870467\n",
      "  0.27239459 0.98487187 0.45702818 0.78823186]\n",
      " [0.86293089 0.45405396 0.72281259 0.08075545 0.94982214 0.97436308\n",
      "  0.0726277  0.14388851 0.463637   0.65738105]\n",
      " [0.40792986 0.46815039 0.0023619  0.25700119 0.6442059  0.58083358\n",
      "  0.69585118 0.19794052 0.09412444 0.0825485 ]]\n",
      "0.8253986490888529\n",
      "0.8257692584303148\n"
     ]
    }
   ],
   "source": [
    "#14.Generate a 10x10 matrix. Generate a single random number. Find the number in the matrix closest to it.\n",
    "M=np.random.random((10,10))\n",
    "print(M)\n",
    "x=np.random.random()\n",
    "print(x)\n",
    "nr_gasit=M.flat[np.abs(M-x).argmin()]\n",
    "print(nr_gasit)"
   ]
  },
  {
   "cell_type": "code",
   "execution_count": null,
   "metadata": {},
   "outputs": [],
   "source": []
  }
 ],
 "metadata": {
  "kernelspec": {
   "display_name": "Python 3",
   "language": "python",
   "name": "python3"
  },
  "language_info": {
   "codemirror_mode": {
    "name": "ipython",
    "version": 3
   },
   "file_extension": ".py",
   "mimetype": "text/x-python",
   "name": "python",
   "nbconvert_exporter": "python",
   "pygments_lexer": "ipython3",
   "version": "3.6.4"
  }
 },
 "nbformat": 4,
 "nbformat_minor": 2
}
